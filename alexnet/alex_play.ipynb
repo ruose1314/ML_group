{
 "cells": [
  {
   "attachments": {},
   "cell_type": "markdown",
   "metadata": {},
   "source": [
    "# Alexnet "
   ]
  },
  {
   "attachments": {},
   "cell_type": "markdown",
   "metadata": {},
   "source": [
    "1. 加载预训练好的 AlexNet 模型"
   ]
  },
  {
   "cell_type": "code",
   "execution_count": 1,
   "metadata": {},
   "outputs": [
    {
     "data": {
      "text/plain": [
       "<module 'ipykernel' from '/home/joseph/anaconda3/envs/nn_env/lib/python3.8/site-packages/ipykernel/__init__.py'>"
      ]
     },
     "execution_count": 1,
     "metadata": {},
     "output_type": "execute_result"
    }
   ],
   "source": [
    "import ipykernel\n",
    "ipykernel"
   ]
  },
  {
   "cell_type": "code",
   "execution_count": 3,
   "metadata": {},
   "outputs": [],
   "source": [
    "import torch\n",
    "import torchvision.models as models\n",
    "import os\n",
    "# 加载预训练好的 AlexNet 模型\n",
    "alexnet = models.alexnet(pretrained=True)\n"
   ]
  },
  {
   "attachments": {},
   "cell_type": "markdown",
   "metadata": {},
   "source": [
    "这里的 pretrained=True 参数表示加载预训练好的模型，如果不加该参数，则会加载一个未经过训练的模型。\n",
    "\n",
    "2. 对图像进行预处理\n",
    "\n",
    "AlexNet 模型对输入的图像要求尺寸为 224x224，像素值归一化为 [0, 1]，并按照 BGR 通道顺序排列。因此，我们需要对输入的图像进行预处理，将其转换为符合要求的格式。"
   ]
  },
  {
   "cell_type": "code",
   "execution_count": 20,
   "metadata": {},
   "outputs": [],
   "source": [
    "from torchvision import transforms\n",
    "\n",
    "# 对输入图像进行预处理\n",
    "transform = transforms.Compose([\n",
    "    transforms.Resize(256),  # 缩放图像大小至 256x256\n",
    "    transforms.CenterCrop(224),  # 在中心位置裁剪出 224x224 大小的图像\n",
    "    transforms.ToTensor(),  # 将图像转换为 Tensor 格式\n",
    "    transforms.Normalize(mean=[0.485, 0.456, 0.406], std=[0.229, 0.224, 0.225])  # 对图像像素值进行归一化\n",
    "])\n"
   ]
  },
  {
   "attachments": {},
   "cell_type": "markdown",
   "metadata": {},
   "source": [
    "3. 加载图像并进行预测\n",
    "\n",
    "首先需要将图像加载为 PIL.Image.Image 格式，然后使用 transform 对图像进行预处理，并将其转换为 PyTorch 的 Tensor 格式。最后将 Tensor 作为输入传入模型，并获取模型的输出结果。"
   ]
  },
  {
   "cell_type": "code",
   "execution_count": 23,
   "metadata": {},
   "outputs": [
    {
     "name": "stdout",
     "output_type": "stream",
     "text": [
      "Predicted Label使用AlexNet预测你提供的图片属于种类是:  golden_retriever\n"
     ]
    }
   ],
   "source": [
    "from PIL import Image\n",
    "# 加载图像并进行预测 这里要换成你下载的\n",
    "home = os.path.expanduser('~')\n",
    "# /home/joseph/Code/ML_group/alexnet/dog.jpg\n",
    "image_path = os.path.join(home, 'Code/ML_group/alexnet/dog.jpg')\n",
    "image = Image.open(image_path)  # 加载图像\n",
    "input_tensor = transform(image)  # 对图像进行预处理，并将其转换为 Tensor 格式\n",
    "input_batch = input_tensor.unsqueeze(0)  # 将 Tensor 包装成一个 Batch\n",
    "\n",
    "# 将 Batch 传入模型，并获取模型的输出结果\n",
    "with torch.no_grad():\n",
    "    output = alexnet(input_batch)\n",
    "    probabilities = torch.nn.functional.softmax(output[0], dim=0)\n",
    "\n",
    "# 输出结果\n",
    "\n",
    "import json\n",
    "\n",
    "# 加载 ImageNet 类别标签信息\n",
    "with open(os.path.join(home, \"Code/ML_group/alexnet/imagenet_class_index.json\")) as f:\n",
    "    class_idx = json.load(f)\n",
    "\n",
    "# 找到预测结果所对应的类别标签\n",
    "# torch.argmax(probabilities) 返回概率最大的那个类别的索引\n",
    "pred_label = class_idx[str(int(torch.argmax(probabilities)))]\n",
    "# pred_label[1] 表示输出的是类别标签的名称\n",
    "print(\"Predicted Label使用AlexNet预测你提供的图片属于种类是: \", pred_label[1])\n",
    "\n"
   ]
  },
  {
   "cell_type": "code",
   "execution_count": null,
   "metadata": {},
   "outputs": [],
   "source": []
  }
 ],
 "metadata": {
  "kernelspec": {
   "display_name": "Python 3",
   "language": "python",
   "name": "python3"
  },
  "language_info": {
   "codemirror_mode": {
    "name": "ipython",
    "version": 3
   },
   "file_extension": ".py",
   "mimetype": "text/x-python",
   "name": "python",
   "nbconvert_exporter": "python",
   "pygments_lexer": "ipython3",
   "version": "3.8.16"
  },
  "orig_nbformat": 4
 },
 "nbformat": 4,
 "nbformat_minor": 2
}
